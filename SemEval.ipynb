{
 "cells": [
  {
   "cell_type": "code",
   "execution_count": 3,
   "metadata": {},
   "outputs": [
    {
     "name": "stderr",
     "output_type": "stream",
     "text": [
      "c:\\Users\\LUCAS\\anaconda3\\envs\\py312\\Lib\\site-packages\\tqdm\\auto.py:21: TqdmWarning: IProgress not found. Please update jupyter and ipywidgets. See https://ipywidgets.readthedocs.io/en/stable/user_install.html\n",
      "  from .autonotebook import tqdm as notebook_tqdm\n"
     ]
    },
    {
     "data": {
      "text/html": [
       "<div>\n",
       "<style scoped>\n",
       "    .dataframe tbody tr th:only-of-type {\n",
       "        vertical-align: middle;\n",
       "    }\n",
       "\n",
       "    .dataframe tbody tr th {\n",
       "        vertical-align: top;\n",
       "    }\n",
       "\n",
       "    .dataframe thead th {\n",
       "        text-align: right;\n",
       "    }\n",
       "</style>\n",
       "<table border=\"1\" class=\"dataframe\">\n",
       "  <thead>\n",
       "    <tr style=\"text-align: right;\">\n",
       "      <th></th>\n",
       "      <th>question</th>\n",
       "      <th>answer</th>\n",
       "      <th>type</th>\n",
       "      <th>columns_used</th>\n",
       "      <th>column_types</th>\n",
       "      <th>sample_answer</th>\n",
       "      <th>dataset</th>\n",
       "    </tr>\n",
       "  </thead>\n",
       "  <tbody>\n",
       "    <tr>\n",
       "      <th>0</th>\n",
       "      <td>Is the person with the highest net worth self-...</td>\n",
       "      <td>True</td>\n",
       "      <td>boolean</td>\n",
       "      <td>['finalWorth', 'selfMade']</td>\n",
       "      <td>['number[uint32]', 'boolean']</td>\n",
       "      <td>False</td>\n",
       "      <td>001_Forbes</td>\n",
       "    </tr>\n",
       "    <tr>\n",
       "      <th>1</th>\n",
       "      <td>Does the youngest billionaire identify as male?</td>\n",
       "      <td>True</td>\n",
       "      <td>boolean</td>\n",
       "      <td>['age', 'gender']</td>\n",
       "      <td>['number[UInt8]', 'category']</td>\n",
       "      <td>True</td>\n",
       "      <td>001_Forbes</td>\n",
       "    </tr>\n",
       "    <tr>\n",
       "      <th>2</th>\n",
       "      <td>Is the city with the most billionaires in the ...</td>\n",
       "      <td>True</td>\n",
       "      <td>boolean</td>\n",
       "      <td>['city', 'country']</td>\n",
       "      <td>['category', 'category']</td>\n",
       "      <td>True</td>\n",
       "      <td>001_Forbes</td>\n",
       "    </tr>\n",
       "    <tr>\n",
       "      <th>3</th>\n",
       "      <td>Is there a non-self-made billionaire in the to...</td>\n",
       "      <td>True</td>\n",
       "      <td>boolean</td>\n",
       "      <td>['rank', 'selfMade']</td>\n",
       "      <td>['number[uint16]', 'boolean']</td>\n",
       "      <td>False</td>\n",
       "      <td>001_Forbes</td>\n",
       "    </tr>\n",
       "    <tr>\n",
       "      <th>4</th>\n",
       "      <td>Does the oldest billionaire have a philanthrop...</td>\n",
       "      <td>False</td>\n",
       "      <td>boolean</td>\n",
       "      <td>['age', 'philanthropyScore']</td>\n",
       "      <td>['number[UInt8]', 'number[UInt8]']</td>\n",
       "      <td>False</td>\n",
       "      <td>001_Forbes</td>\n",
       "    </tr>\n",
       "  </tbody>\n",
       "</table>\n",
       "</div>"
      ],
      "text/plain": [
       "                                            question answer     type  \\\n",
       "0  Is the person with the highest net worth self-...   True  boolean   \n",
       "1    Does the youngest billionaire identify as male?   True  boolean   \n",
       "2  Is the city with the most billionaires in the ...   True  boolean   \n",
       "3  Is there a non-self-made billionaire in the to...   True  boolean   \n",
       "4  Does the oldest billionaire have a philanthrop...  False  boolean   \n",
       "\n",
       "                   columns_used                        column_types  \\\n",
       "0    ['finalWorth', 'selfMade']       ['number[uint32]', 'boolean']   \n",
       "1             ['age', 'gender']       ['number[UInt8]', 'category']   \n",
       "2           ['city', 'country']            ['category', 'category']   \n",
       "3          ['rank', 'selfMade']       ['number[uint16]', 'boolean']   \n",
       "4  ['age', 'philanthropyScore']  ['number[UInt8]', 'number[UInt8]']   \n",
       "\n",
       "  sample_answer     dataset  \n",
       "0         False  001_Forbes  \n",
       "1          True  001_Forbes  \n",
       "2          True  001_Forbes  \n",
       "3         False  001_Forbes  \n",
       "4         False  001_Forbes  "
      ]
     },
     "metadata": {},
     "output_type": "display_data"
    },
    {
     "name": "stdout",
     "output_type": "stream",
     "text": [
      "Dataset Splits and Structure for 'qa':\n",
      "DatasetDict({\n",
      "    train: Dataset({\n",
      "        features: ['question', 'answer', 'type', 'columns_used', 'column_types', 'sample_answer', 'dataset'],\n",
      "        num_rows: 1308\n",
      "    })\n",
      "})\n"
     ]
    }
   ],
   "source": [
    "from datasets import load_dataset, DatasetDict\n",
    "import pandas as pd\n",
    "from databench_eval.utils import load_table\n",
    "\n",
    "\n",
    "# Load the QA pairs for 'semeval' and 'qa' dataset\n",
    "semeval_dev_qa = load_dataset(\"cardiffnlp/databench\", name=\"semeval\", split=\"dev\")\n",
    "forbes_qa = load_dataset(\"cardiffnlp/databench\", name=\"qa\", split=\"train\")\n",
    "\n",
    "# Convert the 'forbes_qa' data''set to a DataFrame for better visualization\n",
    "df = pd.DataFrame(forbes_qa)\n",
    "\n",
    "# Display the first few rows of the DataFrame to check the data\n",
    "display(df.head())\n",
    "\n",
    "# You can also display additional information about the dataset structure and splits\n",
    "print(\"Dataset Splits and Structure for 'qa':\")\n",
    "dataset_info = load_dataset(\"cardiffnlp/databench\", name=\"qa\")\n",
    "print(dataset_info)"
   ]
  },
  {
   "cell_type": "code",
   "execution_count": 6,
   "metadata": {},
   "outputs": [],
   "source": [
    "df1 = load_table(name='001_Forbes')"
   ]
  },
  {
   "cell_type": "code",
   "execution_count": 8,
   "metadata": {},
   "outputs": [
    {
     "data": {
      "text/plain": [
       "(2668, 17)"
      ]
     },
     "execution_count": 8,
     "metadata": {},
     "output_type": "execute_result"
    }
   ],
   "source": [
    "df1.shape"
   ]
  },
  {
   "cell_type": "code",
   "execution_count": 2,
   "metadata": {},
   "outputs": [
    {
     "name": "stdout",
     "output_type": "stream",
     "text": [
      "Cache directory for Hugging Face datasets: C:\\Users\\LUCAS\\.cache\\huggingface\\datasets\n"
     ]
    }
   ],
   "source": [
    "# Print the default cache directory to see where datasets are stored\n",
    "from datasets import config\n",
    "print(\"Cache directory for Hugging Face datasets:\", config.HF_DATASETS_CACHE)"
   ]
  },
  {
   "cell_type": "code",
   "execution_count": 3,
   "metadata": {},
   "outputs": [
    {
     "name": "stdout",
     "output_type": "stream",
     "text": [
      "Question 1: Is the person with the highest net worth self-made?\n",
      "Answer 1: True\n",
      "\n",
      "Question 2: Does the youngest billionaire identify as male?\n",
      "Answer 2: True\n",
      "\n",
      "Question 3: Is the city with the most billionaires in the United States?\n",
      "Answer 3: True\n",
      "\n",
      "Question 4: Is there a non-self-made billionaire in the top 5 ranks?\n",
      "Answer 4: True\n",
      "\n",
      "Question 5: Does the oldest billionaire have a philanthropy score of 5?\n",
      "Answer 5: False\n",
      "\n"
     ]
    }
   ],
   "source": [
    "# If you want to see a specific number of QA pairs, you can still print them directly\n",
    "for i in range(5):\n",
    "    print(f\"Question {i+1}: {df.at[i, 'question']}\")\n",
    "    print(f\"Answer {i+1}: {df.at[i, 'answer']}\")\n",
    "    print()"
   ]
  }
 ],
 "metadata": {
  "kernelspec": {
   "display_name": "py312",
   "language": "python",
   "name": "python3"
  },
  "language_info": {
   "codemirror_mode": {
    "name": "ipython",
    "version": 3
   },
   "file_extension": ".py",
   "mimetype": "text/x-python",
   "name": "python",
   "nbconvert_exporter": "python",
   "pygments_lexer": "ipython3",
   "version": "3.12.6"
  }
 },
 "nbformat": 4,
 "nbformat_minor": 2
}
